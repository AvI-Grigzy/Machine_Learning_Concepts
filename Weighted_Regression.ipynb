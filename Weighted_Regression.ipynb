{
 "cells": [
  {
   "cell_type": "code",
   "execution_count": null,
   "id": "c2626a9e",
   "metadata": {},
   "outputs": [],
   "source": [
    "import numpy as np\n",
    "import matplotlib.pyplot as plt\n",
    "\n",
    "def local_regression(x0, X, Y, tau):\n",
    "    x0 = [1, x0]   \n",
    "    X = [[1, i] for i in X]\n",
    "    X = np.asarray(X)\n",
    "    xw = (X.T) * np.exp(np.sum((X - x0) ** 2, axis=1) / (-2 * tau))\n",
    "    beta = np.linalg.pinv(xw @ X) @ xw @ Y @ x0  \n",
    "    return beta    \n",
    "\n",
    "def draw(tau):\n",
    "    prediction = [local_regression(x0, X, Y, tau) for x0 in domain]\n",
    "    plt.plot(X, Y, 'o', color='black')\n",
    "    plt.plot(domain, prediction, color='red')\n",
    "    plt.show()\n",
    "\n",
    "X = np.linspace(-3, 3, num=1000)\n",
    "domain = X\n",
    "Y = np.log(np.abs(X ** 2 - 1) + .5)\n",
    "\n",
    "draw(10)\n",
    "draw(0.1)\n",
    "draw(0.01)\n",
    "draw(0.001)"
   ]
  }
 ],
 "metadata": {
  "kernelspec": {
   "display_name": "Python 3 (ipykernel)",
   "language": "python",
   "name": "python3"
  },
  "language_info": {
   "codemirror_mode": {
    "name": "ipython",
    "version": 3
   },
   "file_extension": ".py",
   "mimetype": "text/x-python",
   "name": "python",
   "nbconvert_exporter": "python",
   "pygments_lexer": "ipython3",
   "version": "3.12.4"
  }
 },
 "nbformat": 4,
 "nbformat_minor": 5
}
